{
 "cells": [
  {
   "cell_type": "code",
   "execution_count": null,
   "id": "initial_id",
   "metadata": {
    "collapsed": true
   },
   "outputs": [],
   "source": [
    "import numpy as np\n",
    "import pandas as pd\n",
    "\n",
    "# Our functions\n",
    "import EvalFunctions\n",
    "import RecAlgs"
   ]
  },
  {
   "metadata": {},
   "cell_type": "markdown",
   "source": "The parameters to select how to tun the algorithm",
   "id": "b0a3d0f1c4e550b4"
  },
  {
   "metadata": {
    "ExecuteTime": {
     "end_time": "2025-02-21T09:59:48.295134Z",
     "start_time": "2025-02-21T09:59:48.280808Z"
    }
   },
   "cell_type": "code",
   "source": [
    "# General\n",
    "AmountOfRecommendations = 0     # The amount of 'good' recommendation that will be returned\n",
    "TimeCutOffDays = 3              # How old the articles can be that we would consider recommending (older than X days are not considered)\n",
    "\n",
    "# Data selection                \n",
    "TrainingDataStartDate = 0       # From what day we want to collect data\n",
    "TrainingDataWindowSize = 2      # How many days of training data we want\n",
    "TestDataWindowSize = 1          # How many days of test data we want\n",
    "\n",
    "# Algorithm specifics \n",
    "TypeOfRecAlg = 0                # Which RecAlg we want to use 0-Pop, 1-Rand, 2-CBF, 3-CF, 4-Hybrid\n",
    "\n",
    "# Popular Baseline\n",
    "TimePenaltyPerHour = 0.1        # The percentage on penalty per hour the news gets\n",
    "TimePenaltyStart = 24           # After howmany hours in the past the penalty starts\n",
    "\n",
    "# Random Baseline\n",
    "MinScore = 0                    \n",
    "MaxScore = 1\n",
    "\n",
    "# Content based filtering\n",
    "\n",
    "# Collaborative filtering\n",
    "\n",
    "# Hybrid\n",
    "UsePopBaseline = False\n",
    "UseRandBaseLine = False\n",
    "UseCBF = True\n",
    "UseCF = True\n",
    "TakeMax = False\n",
    "Weights = [0.2, 0.4, 0.4]\n"
   ],
   "id": "7845ec1caa25abb8",
   "outputs": [],
   "execution_count": 1
  },
  {
   "metadata": {},
   "cell_type": "markdown",
   "source": "Data selection",
   "id": "929f1dca03380222"
  },
  {
   "metadata": {},
   "cell_type": "code",
   "outputs": [],
   "execution_count": null,
   "source": "AllTrainingData = ",
   "id": "4f977d53c3ab3fca"
  }
 ],
 "metadata": {
  "kernelspec": {
   "display_name": "Python 3",
   "language": "python",
   "name": "python3"
  },
  "language_info": {
   "codemirror_mode": {
    "name": "ipython",
    "version": 2
   },
   "file_extension": ".py",
   "mimetype": "text/x-python",
   "name": "python",
   "nbconvert_exporter": "python",
   "pygments_lexer": "ipython2",
   "version": "2.7.6"
  }
 },
 "nbformat": 4,
 "nbformat_minor": 5
}
