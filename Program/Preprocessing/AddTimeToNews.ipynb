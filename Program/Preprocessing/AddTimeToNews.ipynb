{
 "cells": [
  {
   "cell_type": "code",
   "id": "0",
   "metadata": {
    "ExecuteTime": {
     "end_time": "2025-04-24T08:52:42.040390Z",
     "start_time": "2025-04-24T08:52:41.609102Z"
    }
   },
   "source": [
    "import os\n",
    "import pandas as pd\n",
    "from scipy.sparse import lil_matrix"
   ],
   "outputs": [],
   "execution_count": 1
  },
  {
   "cell_type": "code",
   "id": "1",
   "metadata": {
    "ExecuteTime": {
     "end_time": "2025-04-24T08:52:44.635952Z",
     "start_time": "2025-04-24T08:52:42.041385Z"
    }
   },
   "source": [
    "# Add the first time the article has been seen in the behaviors as the Est_PublishedTime in the articles.\n",
    "AllTrainingData = pd.read_csv(\"../../data/MINDsmall_train/behaviors.tsv\", sep=\"\\t\", header=None, names=[\"UserID\", \"DateTime\", \"History\", \"ClickData\"])\n",
    "AllValidationData = pd.read_csv(\"../../data/MINDsmall_dev/behaviors.tsv\", sep=\"\\t\", header=None, names=[\"UserID\", \"DateTime\", \"History\", \"ClickData\"])\n",
    "AllData = pd.concat([AllTrainingData, AllValidationData], ignore_index=True)\n",
    "\n",
    "ArticlesTrain = pd.read_csv(\"../../data/MINDsmall_train/news.tsv\", sep=\"\\t\", header=None, names=[\"NewsID\", \"Category\", \"SubCategory\", \"Title\", \"Abstract\", \"URL\", \"TitleEntities\", \"AbstractEntities\"])\n",
    "ArticlesValidation = pd.read_csv(\"../../data/MINDsmall_dev/news.tsv\", sep=\"\\t\", header=None, names=[\"NewsID\", \"Category\", \"SubCategory\", \"Title\", \"Abstract\", \"URL\", \"TitleEntities\", \"AbstractEntities\"])\n",
    "AllArticles = pd.concat([ArticlesTrain, ArticlesValidation], ignore_index=True)"
   ],
   "outputs": [],
   "execution_count": 2
  },
  {
   "cell_type": "code",
   "id": "e74ed9cd9afcd204",
   "metadata": {
    "ExecuteTime": {
     "end_time": "2025-04-24T08:52:44.644506Z",
     "start_time": "2025-04-24T08:52:44.636949Z"
    }
   },
   "source": [
    "def get_sparse_matrix(behaviors):\n",
    "\n",
    "  behaviors['History'] = behaviors['History'].str.split()\n",
    "\n",
    "  # behaviors.reset_index(inplace=True)\n",
    "\n",
    "  # Create new column with list of user ID and time stamp\n",
    "  behaviors['UserIDDateTime'] = behaviors['UserID'].astype(str) + ', ' + behaviors['DateTime'].astype(str)\n",
    "\n",
    "  # Generate a list of unique articles from the 'articles_read' column\n",
    "  articles = sorted(set(article for history in behaviors['History'] if isinstance(history, list) for article in history))\n",
    "\n",
    "  # Create a dictionary to map article IDs to column indices\n",
    "  article_to_index = {article: index for index, article in enumerate(articles)}\n",
    "\n",
    "  # Create a dictionary to map user ID-timestamp combinations to indices\n",
    "  user_id_timestamps = sorted(behaviors['UserIDDateTime'].unique())\n",
    "  user_to_index = {user_id_timestamps: index for index, user_id_timestamps in enumerate(user_id_timestamps)}\n",
    "\n",
    "  # Create an empty sparse matrix with boolean values\n",
    "  num_articles = len(articles)\n",
    "  num_users = len(user_id_timestamps)\n",
    "  sparse_matrix = lil_matrix((num_users, num_articles), dtype=bool)\n",
    "\n",
    "  # Fill the sparse matrix with user interactions\n",
    "  for _, row in behaviors.iterrows():\n",
    "      user_id = row['UserIDDateTime']\n",
    "      user_index = user_to_index[user_id]  # Assuming user IDs start with 'user' followed by a number\n",
    "      history = row['History']\n",
    "      if isinstance(history, list):\n",
    "          for article in history:\n",
    "              if article in article_to_index:\n",
    "                  article_index = article_to_index[article]\n",
    "                  sparse_matrix[user_index, article_index] = True\n",
    "      else:\n",
    "          if history in article_to_index:\n",
    "              article_index = article_to_index[history]\n",
    "              sparse_matrix[user_index, article_index] = True\n",
    "\n",
    "  # Convert the sparse matrix to a DataFrame\n",
    "  data_sparse = pd.DataFrame.sparse.from_spmatrix(sparse_matrix, columns=articles, index=user_id_timestamps)\n",
    "\n",
    "  data_sparse.reset_index(inplace=True)\n",
    "\n",
    "  # Extracting user id and timestamp from combined index column\n",
    "  data_sparse['UserID'] = data_sparse['index'].str.split(',').str[0]\n",
    "  data_sparse['DateTime'] = data_sparse['index'].str.split(',').str[1]\n",
    "\n",
    "  # Dropping combined user_id & timestamp index column\n",
    "  data_sparse.drop(columns='index',inplace=True)\n",
    "\n",
    "  # Moving the last two columns to the front\n",
    "  # Get the column names of the last two columns\n",
    "  last_two_columns = data_sparse.columns[-2:]\n",
    "  # Recreating dataframe\n",
    "  data_sparse = data_sparse[last_two_columns.tolist() + data_sparse.columns[:-2].tolist()]\n",
    "\n",
    "  return data_sparse"
   ],
   "outputs": [],
   "execution_count": 3
  },
  {
   "metadata": {
    "ExecuteTime": {
     "end_time": "2025-04-24T08:52:44.651496Z",
     "start_time": "2025-04-24T08:52:44.645502Z"
    }
   },
   "cell_type": "code",
   "source": [
    "def get_release_date(data_sparse, news):\n",
    "  # Sort the data_sparse DataFrame by the timestamp column\n",
    "  sorted_sparse_df = data_sparse.sort_values(by='DateTime')\n",
    "\n",
    "  # Find the release date of each news article\n",
    "  release_dates = {}\n",
    "\n",
    "  # Iterate over the columns of data_sparse starting from the third column\n",
    "  for col in sorted_sparse_df.columns[2:]:\n",
    "      # Find the first index where the column has a value of 1\n",
    "      first_nonzero_index = sorted_sparse_df[col].idxmax()\n",
    "\n",
    "      # Get the timestamp from the sorted_sparse_df using the first_nonzero_index\n",
    "      timestamp = sorted_sparse_df.loc[first_nonzero_index, 'DateTime']\n",
    "\n",
    "      # Store the release date in the release_dates dictionary with the article ID as the key\n",
    "      release_dates[col] = timestamp\n",
    "\n",
    "  # Convert the release_dates dictionary into a DataFrame\n",
    "  release_dates_df = pd.DataFrame(release_dates.items(), columns=['NewsID', 'ReleaseDate'])\n",
    "\n",
    "  # Join the two dataframes based on the 'news_id' column using left join\n",
    "  news_dates = news.merge(release_dates_df, on='NewsID', how='left')\n",
    "\n",
    "  news_dates['ReleaseDate'] = pd.to_datetime(news_dates['ReleaseDate'], errors='coerce')\n",
    "\n",
    "  # Fill the nulls with the first date\n",
    "  news_dates['ReleaseDate'].fillna(news_dates['ReleaseDate'].min(), inplace=True)\n",
    "\n",
    "  return news_dates"
   ],
   "id": "248c4e51770e706b",
   "outputs": [],
   "execution_count": 4
  },
  {
   "cell_type": "code",
   "id": "4",
   "metadata": {
    "ExecuteTime": {
     "end_time": "2025-04-24T08:53:36.158349Z",
     "start_time": "2025-04-24T08:52:44.653493Z"
    }
   },
   "source": [
    "SparseData = get_sparse_matrix(AllData)"
   ],
   "outputs": [
    {
     "name": "stderr",
     "output_type": "stream",
     "text": [
      "C:\\Users\\Storm\\AppData\\Local\\Temp\\ipykernel_36824\\3896879101.py:41: FutureWarning: Allowing arbitrary scalar fill_value in SparseDtype is deprecated. In a future version, the fill_value must be a valid value for the SparseDtype.subtype.\n",
      "  data_sparse = pd.DataFrame.sparse.from_spmatrix(sparse_matrix, columns=articles, index=user_id_timestamps)\n"
     ]
    }
   ],
   "execution_count": 5
  },
  {
   "cell_type": "code",
   "id": "5",
   "metadata": {
    "ExecuteTime": {
     "end_time": "2025-04-24T08:53:36.165940Z",
     "start_time": "2025-04-24T08:53:36.160337Z"
    }
   },
   "source": [
    "# Create directory if not exist\n",
    "os.makedirs(\"../../data/NewsWithTime/small/\", exist_ok=True)"
   ],
   "outputs": [],
   "execution_count": 6
  },
  {
   "cell_type": "code",
   "id": "6",
   "metadata": {
    "ExecuteTime": {
     "end_time": "2025-04-24T08:57:17.346015Z",
     "start_time": "2025-04-24T08:53:36.166936Z"
    }
   },
   "source": [
    "AllArticlesWithTime = get_release_date(SparseData, AllArticles)\n",
    "AllArticlesWithTime.to_csv(\"../../data/NewsWithTime/small/AllNewsWithTime.csv\", index=False, sep=\",\")\n",
    "AllArticlesWithTime.head(3)"
   ],
   "outputs": [
    {
     "ename": "KeyboardInterrupt",
     "evalue": "",
     "output_type": "error",
     "traceback": [
      "\u001B[1;31m---------------------------------------------------------------------------\u001B[0m",
      "\u001B[1;31mKeyboardInterrupt\u001B[0m                         Traceback (most recent call last)",
      "Cell \u001B[1;32mIn[7], line 1\u001B[0m\n\u001B[1;32m----> 1\u001B[0m AllArticlesWithTime \u001B[38;5;241m=\u001B[39m \u001B[43mget_release_date\u001B[49m\u001B[43m(\u001B[49m\u001B[43mSparseData\u001B[49m\u001B[43m,\u001B[49m\u001B[43m \u001B[49m\u001B[43mAllArticles\u001B[49m\u001B[43m)\u001B[49m\n\u001B[0;32m      2\u001B[0m AllArticlesWithTime\u001B[38;5;241m.\u001B[39mto_csv(\u001B[38;5;124m\"\u001B[39m\u001B[38;5;124m../../data/NewsWithTime/small/AllNewsWithTime.csv\u001B[39m\u001B[38;5;124m\"\u001B[39m, index\u001B[38;5;241m=\u001B[39m\u001B[38;5;28;01mFalse\u001B[39;00m, sep\u001B[38;5;241m=\u001B[39m\u001B[38;5;124m\"\u001B[39m\u001B[38;5;124m,\u001B[39m\u001B[38;5;124m\"\u001B[39m)\n\u001B[0;32m      3\u001B[0m AllArticlesWithTime\u001B[38;5;241m.\u001B[39mhead(\u001B[38;5;241m3\u001B[39m)\n",
      "Cell \u001B[1;32mIn[4], line 3\u001B[0m, in \u001B[0;36mget_release_date\u001B[1;34m(data_sparse, news)\u001B[0m\n\u001B[0;32m      1\u001B[0m \u001B[38;5;28;01mdef\u001B[39;00m \u001B[38;5;21mget_release_date\u001B[39m(data_sparse, news):\n\u001B[0;32m      2\u001B[0m   \u001B[38;5;66;03m# Sort the data_sparse DataFrame by the timestamp column\u001B[39;00m\n\u001B[1;32m----> 3\u001B[0m   sorted_sparse_df \u001B[38;5;241m=\u001B[39m \u001B[43mdata_sparse\u001B[49m\u001B[38;5;241;43m.\u001B[39;49m\u001B[43msort_values\u001B[49m\u001B[43m(\u001B[49m\u001B[43mby\u001B[49m\u001B[38;5;241;43m=\u001B[39;49m\u001B[38;5;124;43m'\u001B[39;49m\u001B[38;5;124;43mDateTime\u001B[39;49m\u001B[38;5;124;43m'\u001B[39;49m\u001B[43m)\u001B[49m\n\u001B[0;32m      5\u001B[0m   \u001B[38;5;66;03m# Find the release date of each news article\u001B[39;00m\n\u001B[0;32m      6\u001B[0m   release_dates \u001B[38;5;241m=\u001B[39m {}\n",
      "File \u001B[1;32mC:\\Python311\\Lib\\site-packages\\pandas\\core\\frame.py:7219\u001B[0m, in \u001B[0;36mDataFrame.sort_values\u001B[1;34m(self, by, axis, ascending, inplace, kind, na_position, ignore_index, key)\u001B[0m\n\u001B[0;32m   7216\u001B[0m     \u001B[38;5;28;01melse\u001B[39;00m:\n\u001B[0;32m   7217\u001B[0m         \u001B[38;5;28;01mreturn\u001B[39;00m result\n\u001B[1;32m-> 7219\u001B[0m new_data \u001B[38;5;241m=\u001B[39m \u001B[38;5;28;43mself\u001B[39;49m\u001B[38;5;241;43m.\u001B[39;49m\u001B[43m_mgr\u001B[49m\u001B[38;5;241;43m.\u001B[39;49m\u001B[43mtake\u001B[49m\u001B[43m(\u001B[49m\n\u001B[0;32m   7220\u001B[0m \u001B[43m    \u001B[49m\u001B[43mindexer\u001B[49m\u001B[43m,\u001B[49m\u001B[43m \u001B[49m\u001B[43maxis\u001B[49m\u001B[38;5;241;43m=\u001B[39;49m\u001B[38;5;28;43mself\u001B[39;49m\u001B[38;5;241;43m.\u001B[39;49m\u001B[43m_get_block_manager_axis\u001B[49m\u001B[43m(\u001B[49m\u001B[43maxis\u001B[49m\u001B[43m)\u001B[49m\u001B[43m,\u001B[49m\u001B[43m \u001B[49m\u001B[43mverify\u001B[49m\u001B[38;5;241;43m=\u001B[39;49m\u001B[38;5;28;43;01mFalse\u001B[39;49;00m\n\u001B[0;32m   7221\u001B[0m \u001B[43m\u001B[49m\u001B[43m)\u001B[49m\n\u001B[0;32m   7223\u001B[0m \u001B[38;5;28;01mif\u001B[39;00m ignore_index:\n\u001B[0;32m   7224\u001B[0m     new_data\u001B[38;5;241m.\u001B[39mset_axis(\n\u001B[0;32m   7225\u001B[0m         \u001B[38;5;28mself\u001B[39m\u001B[38;5;241m.\u001B[39m_get_block_manager_axis(axis), default_index(\u001B[38;5;28mlen\u001B[39m(indexer))\n\u001B[0;32m   7226\u001B[0m     )\n",
      "File \u001B[1;32mC:\\Python311\\Lib\\site-packages\\pandas\\core\\internals\\managers.py:894\u001B[0m, in \u001B[0;36mBaseBlockManager.take\u001B[1;34m(self, indexer, axis, verify)\u001B[0m\n\u001B[0;32m    891\u001B[0m indexer \u001B[38;5;241m=\u001B[39m maybe_convert_indices(indexer, n, verify\u001B[38;5;241m=\u001B[39mverify)\n\u001B[0;32m    893\u001B[0m new_labels \u001B[38;5;241m=\u001B[39m \u001B[38;5;28mself\u001B[39m\u001B[38;5;241m.\u001B[39maxes[axis]\u001B[38;5;241m.\u001B[39mtake(indexer)\n\u001B[1;32m--> 894\u001B[0m \u001B[38;5;28;01mreturn\u001B[39;00m \u001B[38;5;28;43mself\u001B[39;49m\u001B[38;5;241;43m.\u001B[39;49m\u001B[43mreindex_indexer\u001B[49m\u001B[43m(\u001B[49m\n\u001B[0;32m    895\u001B[0m \u001B[43m    \u001B[49m\u001B[43mnew_axis\u001B[49m\u001B[38;5;241;43m=\u001B[39;49m\u001B[43mnew_labels\u001B[49m\u001B[43m,\u001B[49m\n\u001B[0;32m    896\u001B[0m \u001B[43m    \u001B[49m\u001B[43mindexer\u001B[49m\u001B[38;5;241;43m=\u001B[39;49m\u001B[43mindexer\u001B[49m\u001B[43m,\u001B[49m\n\u001B[0;32m    897\u001B[0m \u001B[43m    \u001B[49m\u001B[43maxis\u001B[49m\u001B[38;5;241;43m=\u001B[39;49m\u001B[43maxis\u001B[49m\u001B[43m,\u001B[49m\n\u001B[0;32m    898\u001B[0m \u001B[43m    \u001B[49m\u001B[43mallow_dups\u001B[49m\u001B[38;5;241;43m=\u001B[39;49m\u001B[38;5;28;43;01mTrue\u001B[39;49;00m\u001B[43m,\u001B[49m\n\u001B[0;32m    899\u001B[0m \u001B[43m    \u001B[49m\u001B[43mcopy\u001B[49m\u001B[38;5;241;43m=\u001B[39;49m\u001B[38;5;28;43;01mNone\u001B[39;49;00m\u001B[43m,\u001B[49m\n\u001B[0;32m    900\u001B[0m \u001B[43m\u001B[49m\u001B[43m)\u001B[49m\n",
      "File \u001B[1;32mC:\\Python311\\Lib\\site-packages\\pandas\\core\\internals\\managers.py:687\u001B[0m, in \u001B[0;36mBaseBlockManager.reindex_indexer\u001B[1;34m(self, new_axis, indexer, axis, fill_value, allow_dups, copy, only_slice, use_na_proxy)\u001B[0m\n\u001B[0;32m    680\u001B[0m     new_blocks \u001B[38;5;241m=\u001B[39m \u001B[38;5;28mself\u001B[39m\u001B[38;5;241m.\u001B[39m_slice_take_blocks_ax0(\n\u001B[0;32m    681\u001B[0m         indexer,\n\u001B[0;32m    682\u001B[0m         fill_value\u001B[38;5;241m=\u001B[39mfill_value,\n\u001B[0;32m    683\u001B[0m         only_slice\u001B[38;5;241m=\u001B[39monly_slice,\n\u001B[0;32m    684\u001B[0m         use_na_proxy\u001B[38;5;241m=\u001B[39muse_na_proxy,\n\u001B[0;32m    685\u001B[0m     )\n\u001B[0;32m    686\u001B[0m \u001B[38;5;28;01melse\u001B[39;00m:\n\u001B[1;32m--> 687\u001B[0m     new_blocks \u001B[38;5;241m=\u001B[39m \u001B[43m[\u001B[49m\n\u001B[0;32m    688\u001B[0m \u001B[43m        \u001B[49m\u001B[43mblk\u001B[49m\u001B[38;5;241;43m.\u001B[39;49m\u001B[43mtake_nd\u001B[49m\u001B[43m(\u001B[49m\n\u001B[0;32m    689\u001B[0m \u001B[43m            \u001B[49m\u001B[43mindexer\u001B[49m\u001B[43m,\u001B[49m\n\u001B[0;32m    690\u001B[0m \u001B[43m            \u001B[49m\u001B[43maxis\u001B[49m\u001B[38;5;241;43m=\u001B[39;49m\u001B[38;5;241;43m1\u001B[39;49m\u001B[43m,\u001B[49m\n\u001B[0;32m    691\u001B[0m \u001B[43m            \u001B[49m\u001B[43mfill_value\u001B[49m\u001B[38;5;241;43m=\u001B[39;49m\u001B[43m(\u001B[49m\n\u001B[0;32m    692\u001B[0m \u001B[43m                \u001B[49m\u001B[43mfill_value\u001B[49m\u001B[43m \u001B[49m\u001B[38;5;28;43;01mif\u001B[39;49;00m\u001B[43m \u001B[49m\u001B[43mfill_value\u001B[49m\u001B[43m \u001B[49m\u001B[38;5;129;43;01mis\u001B[39;49;00m\u001B[43m \u001B[49m\u001B[38;5;129;43;01mnot\u001B[39;49;00m\u001B[43m \u001B[49m\u001B[38;5;28;43;01mNone\u001B[39;49;00m\u001B[43m \u001B[49m\u001B[38;5;28;43;01melse\u001B[39;49;00m\u001B[43m \u001B[49m\u001B[43mblk\u001B[49m\u001B[38;5;241;43m.\u001B[39;49m\u001B[43mfill_value\u001B[49m\n\u001B[0;32m    693\u001B[0m \u001B[43m            \u001B[49m\u001B[43m)\u001B[49m\u001B[43m,\u001B[49m\n\u001B[0;32m    694\u001B[0m \u001B[43m        \u001B[49m\u001B[43m)\u001B[49m\n\u001B[0;32m    695\u001B[0m \u001B[43m        \u001B[49m\u001B[38;5;28;43;01mfor\u001B[39;49;00m\u001B[43m \u001B[49m\u001B[43mblk\u001B[49m\u001B[43m \u001B[49m\u001B[38;5;129;43;01min\u001B[39;49;00m\u001B[43m \u001B[49m\u001B[38;5;28;43mself\u001B[39;49m\u001B[38;5;241;43m.\u001B[39;49m\u001B[43mblocks\u001B[49m\n\u001B[0;32m    696\u001B[0m \u001B[43m    \u001B[49m\u001B[43m]\u001B[49m\n\u001B[0;32m    698\u001B[0m new_axes \u001B[38;5;241m=\u001B[39m \u001B[38;5;28mlist\u001B[39m(\u001B[38;5;28mself\u001B[39m\u001B[38;5;241m.\u001B[39maxes)\n\u001B[0;32m    699\u001B[0m new_axes[axis] \u001B[38;5;241m=\u001B[39m new_axis\n",
      "File \u001B[1;32mC:\\Python311\\Lib\\site-packages\\pandas\\core\\internals\\managers.py:688\u001B[0m, in \u001B[0;36m<listcomp>\u001B[1;34m(.0)\u001B[0m\n\u001B[0;32m    680\u001B[0m     new_blocks \u001B[38;5;241m=\u001B[39m \u001B[38;5;28mself\u001B[39m\u001B[38;5;241m.\u001B[39m_slice_take_blocks_ax0(\n\u001B[0;32m    681\u001B[0m         indexer,\n\u001B[0;32m    682\u001B[0m         fill_value\u001B[38;5;241m=\u001B[39mfill_value,\n\u001B[0;32m    683\u001B[0m         only_slice\u001B[38;5;241m=\u001B[39monly_slice,\n\u001B[0;32m    684\u001B[0m         use_na_proxy\u001B[38;5;241m=\u001B[39muse_na_proxy,\n\u001B[0;32m    685\u001B[0m     )\n\u001B[0;32m    686\u001B[0m \u001B[38;5;28;01melse\u001B[39;00m:\n\u001B[0;32m    687\u001B[0m     new_blocks \u001B[38;5;241m=\u001B[39m [\n\u001B[1;32m--> 688\u001B[0m         \u001B[43mblk\u001B[49m\u001B[38;5;241;43m.\u001B[39;49m\u001B[43mtake_nd\u001B[49m\u001B[43m(\u001B[49m\n\u001B[0;32m    689\u001B[0m \u001B[43m            \u001B[49m\u001B[43mindexer\u001B[49m\u001B[43m,\u001B[49m\n\u001B[0;32m    690\u001B[0m \u001B[43m            \u001B[49m\u001B[43maxis\u001B[49m\u001B[38;5;241;43m=\u001B[39;49m\u001B[38;5;241;43m1\u001B[39;49m\u001B[43m,\u001B[49m\n\u001B[0;32m    691\u001B[0m \u001B[43m            \u001B[49m\u001B[43mfill_value\u001B[49m\u001B[38;5;241;43m=\u001B[39;49m\u001B[43m(\u001B[49m\n\u001B[0;32m    692\u001B[0m \u001B[43m                \u001B[49m\u001B[43mfill_value\u001B[49m\u001B[43m \u001B[49m\u001B[38;5;28;43;01mif\u001B[39;49;00m\u001B[43m \u001B[49m\u001B[43mfill_value\u001B[49m\u001B[43m \u001B[49m\u001B[38;5;129;43;01mis\u001B[39;49;00m\u001B[43m \u001B[49m\u001B[38;5;129;43;01mnot\u001B[39;49;00m\u001B[43m \u001B[49m\u001B[38;5;28;43;01mNone\u001B[39;49;00m\u001B[43m \u001B[49m\u001B[38;5;28;43;01melse\u001B[39;49;00m\u001B[43m \u001B[49m\u001B[43mblk\u001B[49m\u001B[38;5;241;43m.\u001B[39;49m\u001B[43mfill_value\u001B[49m\n\u001B[0;32m    693\u001B[0m \u001B[43m            \u001B[49m\u001B[43m)\u001B[49m\u001B[43m,\u001B[49m\n\u001B[0;32m    694\u001B[0m \u001B[43m        \u001B[49m\u001B[43m)\u001B[49m\n\u001B[0;32m    695\u001B[0m         \u001B[38;5;28;01mfor\u001B[39;00m blk \u001B[38;5;129;01min\u001B[39;00m \u001B[38;5;28mself\u001B[39m\u001B[38;5;241m.\u001B[39mblocks\n\u001B[0;32m    696\u001B[0m     ]\n\u001B[0;32m    698\u001B[0m new_axes \u001B[38;5;241m=\u001B[39m \u001B[38;5;28mlist\u001B[39m(\u001B[38;5;28mself\u001B[39m\u001B[38;5;241m.\u001B[39maxes)\n\u001B[0;32m    699\u001B[0m new_axes[axis] \u001B[38;5;241m=\u001B[39m new_axis\n",
      "File \u001B[1;32mC:\\Python311\\Lib\\site-packages\\pandas\\core\\internals\\blocks.py:1307\u001B[0m, in \u001B[0;36mBlock.take_nd\u001B[1;34m(self, indexer, axis, new_mgr_locs, fill_value)\u001B[0m\n\u001B[0;32m   1304\u001B[0m     allow_fill \u001B[38;5;241m=\u001B[39m \u001B[38;5;28;01mTrue\u001B[39;00m\n\u001B[0;32m   1306\u001B[0m \u001B[38;5;66;03m# Note: algos.take_nd has upcast logic similar to coerce_to_target_dtype\u001B[39;00m\n\u001B[1;32m-> 1307\u001B[0m new_values \u001B[38;5;241m=\u001B[39m \u001B[43malgos\u001B[49m\u001B[38;5;241;43m.\u001B[39;49m\u001B[43mtake_nd\u001B[49m\u001B[43m(\u001B[49m\n\u001B[0;32m   1308\u001B[0m \u001B[43m    \u001B[49m\u001B[43mvalues\u001B[49m\u001B[43m,\u001B[49m\u001B[43m \u001B[49m\u001B[43mindexer\u001B[49m\u001B[43m,\u001B[49m\u001B[43m \u001B[49m\u001B[43maxis\u001B[49m\u001B[38;5;241;43m=\u001B[39;49m\u001B[43maxis\u001B[49m\u001B[43m,\u001B[49m\u001B[43m \u001B[49m\u001B[43mallow_fill\u001B[49m\u001B[38;5;241;43m=\u001B[39;49m\u001B[43mallow_fill\u001B[49m\u001B[43m,\u001B[49m\u001B[43m \u001B[49m\u001B[43mfill_value\u001B[49m\u001B[38;5;241;43m=\u001B[39;49m\u001B[43mfill_value\u001B[49m\n\u001B[0;32m   1309\u001B[0m \u001B[43m\u001B[49m\u001B[43m)\u001B[49m\n\u001B[0;32m   1311\u001B[0m \u001B[38;5;66;03m# Called from three places in managers, all of which satisfy\u001B[39;00m\n\u001B[0;32m   1312\u001B[0m \u001B[38;5;66;03m#  these assertions\u001B[39;00m\n\u001B[0;32m   1313\u001B[0m \u001B[38;5;28;01mif\u001B[39;00m \u001B[38;5;28misinstance\u001B[39m(\u001B[38;5;28mself\u001B[39m, ExtensionBlock):\n\u001B[0;32m   1314\u001B[0m     \u001B[38;5;66;03m# NB: in this case, the 'axis' kwarg will be ignored in the\u001B[39;00m\n\u001B[0;32m   1315\u001B[0m     \u001B[38;5;66;03m#  algos.take_nd call above.\u001B[39;00m\n",
      "File \u001B[1;32mC:\\Python311\\Lib\\site-packages\\pandas\\core\\array_algos\\take.py:114\u001B[0m, in \u001B[0;36mtake_nd\u001B[1;34m(arr, indexer, axis, fill_value, allow_fill)\u001B[0m\n\u001B[0;32m    109\u001B[0m         arr \u001B[38;5;241m=\u001B[39m cast(\u001B[38;5;124m\"\u001B[39m\u001B[38;5;124mNDArrayBackedExtensionArray\u001B[39m\u001B[38;5;124m\"\u001B[39m, arr)\n\u001B[0;32m    110\u001B[0m         \u001B[38;5;28;01mreturn\u001B[39;00m arr\u001B[38;5;241m.\u001B[39mtake(\n\u001B[0;32m    111\u001B[0m             indexer, fill_value\u001B[38;5;241m=\u001B[39mfill_value, allow_fill\u001B[38;5;241m=\u001B[39mallow_fill, axis\u001B[38;5;241m=\u001B[39maxis\n\u001B[0;32m    112\u001B[0m         )\n\u001B[1;32m--> 114\u001B[0m     \u001B[38;5;28;01mreturn\u001B[39;00m \u001B[43marr\u001B[49m\u001B[38;5;241;43m.\u001B[39;49m\u001B[43mtake\u001B[49m\u001B[43m(\u001B[49m\u001B[43mindexer\u001B[49m\u001B[43m,\u001B[49m\u001B[43m \u001B[49m\u001B[43mfill_value\u001B[49m\u001B[38;5;241;43m=\u001B[39;49m\u001B[43mfill_value\u001B[49m\u001B[43m,\u001B[49m\u001B[43m \u001B[49m\u001B[43mallow_fill\u001B[49m\u001B[38;5;241;43m=\u001B[39;49m\u001B[43mallow_fill\u001B[49m\u001B[43m)\u001B[49m\n\u001B[0;32m    116\u001B[0m arr \u001B[38;5;241m=\u001B[39m np\u001B[38;5;241m.\u001B[39masarray(arr)\n\u001B[0;32m    117\u001B[0m \u001B[38;5;28;01mreturn\u001B[39;00m _take_nd_ndarray(arr, indexer, axis, fill_value, allow_fill)\n",
      "File \u001B[1;32mC:\\Python311\\Lib\\site-packages\\pandas\\core\\arrays\\sparse\\array.py:1053\u001B[0m, in \u001B[0;36mSparseArray.take\u001B[1;34m(self, indices, allow_fill, fill_value)\u001B[0m\n\u001B[0;32m   1051\u001B[0m     dtype \u001B[38;5;241m=\u001B[39m \u001B[38;5;28mself\u001B[39m\u001B[38;5;241m.\u001B[39mdtype\n\u001B[0;32m   1052\u001B[0m \u001B[38;5;28;01melif\u001B[39;00m allow_fill:\n\u001B[1;32m-> 1053\u001B[0m     result \u001B[38;5;241m=\u001B[39m \u001B[38;5;28;43mself\u001B[39;49m\u001B[38;5;241;43m.\u001B[39;49m\u001B[43m_take_with_fill\u001B[49m\u001B[43m(\u001B[49m\u001B[43mindices\u001B[49m\u001B[43m,\u001B[49m\u001B[43m \u001B[49m\u001B[43mfill_value\u001B[49m\u001B[38;5;241;43m=\u001B[39;49m\u001B[43mfill_value\u001B[49m\u001B[43m)\u001B[49m\n\u001B[0;32m   1054\u001B[0m \u001B[38;5;28;01melse\u001B[39;00m:\n\u001B[0;32m   1055\u001B[0m     \u001B[38;5;28;01mreturn\u001B[39;00m \u001B[38;5;28mself\u001B[39m\u001B[38;5;241m.\u001B[39m_take_without_fill(indices)\n",
      "File \u001B[1;32mC:\\Python311\\Lib\\site-packages\\pandas\\core\\arrays\\sparse\\array.py:1087\u001B[0m, in \u001B[0;36mSparseArray._take_with_fill\u001B[1;34m(self, indices, fill_value)\u001B[0m\n\u001B[0;32m   1082\u001B[0m         \u001B[38;5;28;01mraise\u001B[39;00m \u001B[38;5;167;01mIndexError\u001B[39;00m(\u001B[38;5;124m\"\u001B[39m\u001B[38;5;124mcannot do a non-empty take from an empty axes.\u001B[39m\u001B[38;5;124m\"\u001B[39m)\n\u001B[0;32m   1084\u001B[0m \u001B[38;5;66;03m# sp_indexer may be -1 for two reasons\u001B[39;00m\n\u001B[0;32m   1085\u001B[0m \u001B[38;5;66;03m# 1.) we took for an index of -1 (new)\u001B[39;00m\n\u001B[0;32m   1086\u001B[0m \u001B[38;5;66;03m# 2.) we took a value that was self.fill_value (old)\u001B[39;00m\n\u001B[1;32m-> 1087\u001B[0m sp_indexer \u001B[38;5;241m=\u001B[39m \u001B[38;5;28;43mself\u001B[39;49m\u001B[38;5;241;43m.\u001B[39;49m\u001B[43msp_index\u001B[49m\u001B[38;5;241;43m.\u001B[39;49m\u001B[43mlookup_array\u001B[49m\u001B[43m(\u001B[49m\u001B[43mindices\u001B[49m\u001B[43m)\u001B[49m\n\u001B[0;32m   1088\u001B[0m new_fill_indices \u001B[38;5;241m=\u001B[39m indices \u001B[38;5;241m==\u001B[39m \u001B[38;5;241m-\u001B[39m\u001B[38;5;241m1\u001B[39m\n\u001B[0;32m   1089\u001B[0m old_fill_indices \u001B[38;5;241m=\u001B[39m (sp_indexer \u001B[38;5;241m==\u001B[39m \u001B[38;5;241m-\u001B[39m\u001B[38;5;241m1\u001B[39m) \u001B[38;5;241m&\u001B[39m \u001B[38;5;241m~\u001B[39mnew_fill_indices\n",
      "\u001B[1;31mKeyboardInterrupt\u001B[0m: "
     ]
    }
   ],
   "execution_count": 7
  },
  {
   "cell_type": "code",
   "id": "7",
   "metadata": {
    "ExecuteTime": {
     "end_time": "2025-04-24T08:57:17.348013Z",
     "start_time": "2025-04-24T08:57:17.347011Z"
    }
   },
   "source": [
    "TrainArticlesWithTime = get_release_date(SparseData, ArticlesTrain)\n",
    "TrainArticlesWithTime.to_csv(\"../../data/NewsWithTime/small/TrainNewsWithTime.csv\", index=False, sep=\",\")\n",
    "TrainArticlesWithTime.head(3)"
   ],
   "outputs": [],
   "execution_count": null
  },
  {
   "cell_type": "code",
   "id": "8",
   "metadata": {
    "ExecuteTime": {
     "end_time": "2025-04-24T08:57:17.349012Z",
     "start_time": "2025-04-24T08:57:17.349012Z"
    }
   },
   "source": [
    "ValArticlesWithTime = get_release_date(SparseData, ArticlesValidation)\n",
    "ValArticlesWithTime.to_csv(\"../../data/NewsWithTime/small/DevNewsWithTime.csv\", index=False, sep=\",\")\n",
    "ValArticlesWithTime.head(3)"
   ],
   "outputs": [],
   "execution_count": null
  }
 ],
 "metadata": {
  "kernelspec": {
   "display_name": "Python 3 (ipykernel)",
   "language": "python",
   "name": "python3"
  },
  "language_info": {
   "codemirror_mode": {
    "name": "ipython",
    "version": 3
   },
   "file_extension": ".py",
   "mimetype": "text/x-python",
   "name": "python",
   "nbconvert_exporter": "python",
   "pygments_lexer": "ipython3",
   "version": "3.12.2"
  }
 },
 "nbformat": 4,
 "nbformat_minor": 5
}
