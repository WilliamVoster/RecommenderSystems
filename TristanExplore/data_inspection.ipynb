{
 "cells": [
  {
   "cell_type": "code",
   "metadata": {
    "ExecuteTime": {
     "end_time": "2025-04-24T08:35:45.424218Z",
     "start_time": "2025-04-24T08:35:40.298671Z"
    }
   },
   "source": [
    "import os\n",
    "\n",
    "import News_Recommender_CBF as nrcbf\n",
    "\n",
    "print(f\"YOUR DIRECTORY:\\nMATCH PATH ACCORDINGLY!\\n{os.getcwd()}\")"
   ],
   "outputs": [
    {
     "name": "stdout",
     "output_type": "stream",
     "text": [
      "YOUR DIRECTORY:\n",
      "MATCH PATH ACCORDINGLY!\n",
      "C:\\Users\\Storm\\PycharmProjects\\RecommenderSystems\\TristanExplore\n"
     ]
    }
   ],
   "execution_count": 1
  },
  {
   "cell_type": "code",
   "metadata": {
    "ExecuteTime": {
     "end_time": "2025-04-24T08:36:01.991667Z",
     "start_time": "2025-04-24T08:35:54.139809Z"
    }
   },
   "source": [
    "path_items = \"../data/MINDsmall_train/news.tsv\"\n",
    "path_user_behavior = \"../data/MINDsmall_train/behaviors.tsv\"\n",
    "\n",
    "recommender = nrcbf.NewsRecommenderCBF(path_items, path_user_behavior)\n",
    "\n",
    "recommender.get_user_frame().head(10)"
   ],
   "outputs": [
    {
     "name": "stdout",
     "output_type": "stream",
     "text": [
      "00 ----------> ITEM data loaded successfully: 51282 records!\n",
      "01 ----------> USER data loaded successfully: 156965 records!\n",
      "02 ----------> Corpus created: 51282 documents!\n",
      "03 ----------> TF-IDF matrix created: 51282 documents, 167113 terms!\n",
      "04 ----------> Category matrix created: 51282 documents, 281 categories!\n",
      "05 ----------> Combined matrix created, shape: (51282, 167394)\n"
     ]
    },
    {
     "data": {
      "text/plain": [
       "       uID                   t  \\\n",
       "1   U13740 2019-11-11 09:05:58   \n",
       "2   U91836 2019-11-12 18:11:30   \n",
       "3   U73700 2019-11-14 07:01:48   \n",
       "4   U34670 2019-11-11 05:28:05   \n",
       "5    U8125 2019-11-12 16:11:21   \n",
       "6   U19739 2019-11-11 18:52:13   \n",
       "7    U8355 2019-11-11 12:22:09   \n",
       "8   U46596 2019-11-12 22:29:36   \n",
       "9   U79199 2019-11-13 10:13:02   \n",
       "10  U53231 2019-11-11 11:28:11   \n",
       "\n",
       "                                            ClickHist  \\\n",
       "1   N55189 N42782 N34694 N45794 N18445 N63302 N104...   \n",
       "2   N31739 N6072 N63045 N23979 N35656 N43353 N8129...   \n",
       "3   N10732 N25792 N7563 N21087 N41087 N5445 N60384...   \n",
       "4   N45729 N2203 N871 N53880 N41375 N43142 N33013 ...   \n",
       "5                         N10078 N56514 N14904 N33740   \n",
       "6   N39074 N14343 N32607 N32320 N22007 N442 N19001...   \n",
       "7   N8419 N15771 N1431 N5888 N18663 N24123 N22130 ...   \n",
       "8                          N47438 N20950 N21317 N5469   \n",
       "9   N37083 N459 N29499 N38118 N37378 N24691 N27235...   \n",
       "10  N58936 N15919 N11917 N2153 N55312 N13008 N4142...   \n",
       "\n",
       "                                               ImpLog  \n",
       "1                                   N55689-1 N35729-0  \n",
       "2   N20678-0 N39317-0 N58114-0 N20495-0 N42977-0 N...  \n",
       "3   N50014-0 N23877-0 N35389-0 N49712-0 N16844-0 N...  \n",
       "4                 N35729-0 N33632-0 N49685-1 N27581-0  \n",
       "5   N39985-0 N36050-0 N16096-0 N8400-1 N22407-0 N6...  \n",
       "6         N21119-1 N53696-0 N33619-1 N25722-0 N2869-0  \n",
       "7   N51346-0 N33848-0 N15132-0 N10688-0 N6342-0 N6...  \n",
       "8   N7821-0 N24898-0 N12029-0 N13579-0 N42977-0 N3...  \n",
       "9                 N51048-1 N64094-0 N13907-0 N39010-0  \n",
       "10                                  N53585-1 N55689-0  "
      ],
      "text/html": [
       "<div>\n",
       "<style scoped>\n",
       "    .dataframe tbody tr th:only-of-type {\n",
       "        vertical-align: middle;\n",
       "    }\n",
       "\n",
       "    .dataframe tbody tr th {\n",
       "        vertical-align: top;\n",
       "    }\n",
       "\n",
       "    .dataframe thead th {\n",
       "        text-align: right;\n",
       "    }\n",
       "</style>\n",
       "<table border=\"1\" class=\"dataframe\">\n",
       "  <thead>\n",
       "    <tr style=\"text-align: right;\">\n",
       "      <th></th>\n",
       "      <th>uID</th>\n",
       "      <th>t</th>\n",
       "      <th>ClickHist</th>\n",
       "      <th>ImpLog</th>\n",
       "    </tr>\n",
       "  </thead>\n",
       "  <tbody>\n",
       "    <tr>\n",
       "      <th>1</th>\n",
       "      <td>U13740</td>\n",
       "      <td>2019-11-11 09:05:58</td>\n",
       "      <td>N55189 N42782 N34694 N45794 N18445 N63302 N104...</td>\n",
       "      <td>N55689-1 N35729-0</td>\n",
       "    </tr>\n",
       "    <tr>\n",
       "      <th>2</th>\n",
       "      <td>U91836</td>\n",
       "      <td>2019-11-12 18:11:30</td>\n",
       "      <td>N31739 N6072 N63045 N23979 N35656 N43353 N8129...</td>\n",
       "      <td>N20678-0 N39317-0 N58114-0 N20495-0 N42977-0 N...</td>\n",
       "    </tr>\n",
       "    <tr>\n",
       "      <th>3</th>\n",
       "      <td>U73700</td>\n",
       "      <td>2019-11-14 07:01:48</td>\n",
       "      <td>N10732 N25792 N7563 N21087 N41087 N5445 N60384...</td>\n",
       "      <td>N50014-0 N23877-0 N35389-0 N49712-0 N16844-0 N...</td>\n",
       "    </tr>\n",
       "    <tr>\n",
       "      <th>4</th>\n",
       "      <td>U34670</td>\n",
       "      <td>2019-11-11 05:28:05</td>\n",
       "      <td>N45729 N2203 N871 N53880 N41375 N43142 N33013 ...</td>\n",
       "      <td>N35729-0 N33632-0 N49685-1 N27581-0</td>\n",
       "    </tr>\n",
       "    <tr>\n",
       "      <th>5</th>\n",
       "      <td>U8125</td>\n",
       "      <td>2019-11-12 16:11:21</td>\n",
       "      <td>N10078 N56514 N14904 N33740</td>\n",
       "      <td>N39985-0 N36050-0 N16096-0 N8400-1 N22407-0 N6...</td>\n",
       "    </tr>\n",
       "    <tr>\n",
       "      <th>6</th>\n",
       "      <td>U19739</td>\n",
       "      <td>2019-11-11 18:52:13</td>\n",
       "      <td>N39074 N14343 N32607 N32320 N22007 N442 N19001...</td>\n",
       "      <td>N21119-1 N53696-0 N33619-1 N25722-0 N2869-0</td>\n",
       "    </tr>\n",
       "    <tr>\n",
       "      <th>7</th>\n",
       "      <td>U8355</td>\n",
       "      <td>2019-11-11 12:22:09</td>\n",
       "      <td>N8419 N15771 N1431 N5888 N18663 N24123 N22130 ...</td>\n",
       "      <td>N51346-0 N33848-0 N15132-0 N10688-0 N6342-0 N6...</td>\n",
       "    </tr>\n",
       "    <tr>\n",
       "      <th>8</th>\n",
       "      <td>U46596</td>\n",
       "      <td>2019-11-12 22:29:36</td>\n",
       "      <td>N47438 N20950 N21317 N5469</td>\n",
       "      <td>N7821-0 N24898-0 N12029-0 N13579-0 N42977-0 N3...</td>\n",
       "    </tr>\n",
       "    <tr>\n",
       "      <th>9</th>\n",
       "      <td>U79199</td>\n",
       "      <td>2019-11-13 10:13:02</td>\n",
       "      <td>N37083 N459 N29499 N38118 N37378 N24691 N27235...</td>\n",
       "      <td>N51048-1 N64094-0 N13907-0 N39010-0</td>\n",
       "    </tr>\n",
       "    <tr>\n",
       "      <th>10</th>\n",
       "      <td>U53231</td>\n",
       "      <td>2019-11-11 11:28:11</td>\n",
       "      <td>N58936 N15919 N11917 N2153 N55312 N13008 N4142...</td>\n",
       "      <td>N53585-1 N55689-0</td>\n",
       "    </tr>\n",
       "  </tbody>\n",
       "</table>\n",
       "</div>"
      ]
     },
     "execution_count": 2,
     "metadata": {},
     "output_type": "execute_result"
    }
   ],
   "execution_count": 2
  },
  {
   "cell_type": "code",
   "metadata": {
    "ExecuteTime": {
     "end_time": "2025-04-24T08:36:17.372995Z",
     "start_time": "2025-04-24T08:36:17.268962Z"
    }
   },
   "source": [
    "user = \"U13740\"\n",
    "recommendation = recommender.recommend(user, 10)\n",
    "print(recommendation)"
   ],
   "outputs": [
    {
     "name": "stdout",
     "output_type": "stream",
     "text": [
      "['N58133', 'N31801', 'N19347', 'N44581', 'N14019', 'N3487', 'N34069', 'N38384', 'N59138', 'N31895']\n"
     ]
    }
   ],
   "execution_count": 4
  },
  {
   "cell_type": "code",
   "execution_count": null,
   "metadata": {},
   "outputs": [],
   "source": []
  }
 ],
 "metadata": {
  "kernelspec": {
   "display_name": "Python 3",
   "language": "python",
   "name": "python3"
  },
  "language_info": {
   "codemirror_mode": {
    "name": "ipython",
    "version": 3
   },
   "file_extension": ".py",
   "mimetype": "text/x-python",
   "name": "python",
   "nbconvert_exporter": "python",
   "pygments_lexer": "ipython3",
   "version": "3.10.12"
  }
 },
 "nbformat": 4,
 "nbformat_minor": 2
}
