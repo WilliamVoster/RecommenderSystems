{
 "cells": [
  {
   "cell_type": "code",
   "execution_count": 1,
   "metadata": {},
   "outputs": [
    {
     "name": "stdout",
     "output_type": "stream",
     "text": [
      "YOUR DIRECTORY:\n",
      "MATCH PATH ACCORDINGLY!\n",
      "/home/tristan/NTNU/4_semester/RecommendedSystems/RecommenderSystems/TristanExplore\n"
     ]
    }
   ],
   "source": [
    "import os\n",
    "\n",
    "import News_Recommender_CBF as nrcbf\n",
    "\n",
    "print(f\"YOUR DIRECTORY:\\nMATCH PATH ACCORDINGLY!\\n{os.getcwd()}\")"
   ]
  },
  {
   "cell_type": "code",
   "execution_count": 2,
   "metadata": {},
   "outputs": [
    {
     "name": "stdout",
     "output_type": "stream",
     "text": [
      "00 ----------> ITEM data loaded successfully: 101527 records!\n",
      "01 ----------> USER data loaded successfully: 2232748 records!\n",
      "02 ----------> Corpus created: 101527 documents!\n",
      "03 ----------> TF-IDF matrix created: 101527 documents, 347812 terms!\n",
      "04 ----------> Category matrix created: 101527 documents, 303 categories!\n",
      "05 ----------> Combined matrix created, shape: (101527, 348115)\n"
     ]
    },
    {
     "data": {
      "text/html": [
       "<div>\n",
       "<style scoped>\n",
       "    .dataframe tbody tr th:only-of-type {\n",
       "        vertical-align: middle;\n",
       "    }\n",
       "\n",
       "    .dataframe tbody tr th {\n",
       "        vertical-align: top;\n",
       "    }\n",
       "\n",
       "    .dataframe thead th {\n",
       "        text-align: right;\n",
       "    }\n",
       "</style>\n",
       "<table border=\"1\" class=\"dataframe\">\n",
       "  <thead>\n",
       "    <tr style=\"text-align: right;\">\n",
       "      <th></th>\n",
       "      <th>uID</th>\n",
       "      <th>t</th>\n",
       "      <th>ClickHist</th>\n",
       "      <th>ImpLog</th>\n",
       "    </tr>\n",
       "  </thead>\n",
       "  <tbody>\n",
       "    <tr>\n",
       "      <th>1</th>\n",
       "      <td>U87243</td>\n",
       "      <td>2019-11-10 11:30:54</td>\n",
       "      <td>N8668 N39081 N65259 N79529 N73408 N43615 N2937...</td>\n",
       "      <td>N78206-0 N26368-0 N7578-0 N58592-0 N19858-0 N5...</td>\n",
       "    </tr>\n",
       "    <tr>\n",
       "      <th>2</th>\n",
       "      <td>U598644</td>\n",
       "      <td>2019-11-12 01:45:29</td>\n",
       "      <td>N56056 N8726 N70353 N67998 N83823 N111108 N107...</td>\n",
       "      <td>N47996-0 N82719-0 N117066-0 N8491-0 N123784-0 ...</td>\n",
       "    </tr>\n",
       "    <tr>\n",
       "      <th>3</th>\n",
       "      <td>U532401</td>\n",
       "      <td>2019-11-13 11:23:03</td>\n",
       "      <td>N128643 N87446 N122948 N9375 N82348 N129412 N5...</td>\n",
       "      <td>N103852-0 N53474-0 N127836-0 N47925-1</td>\n",
       "    </tr>\n",
       "    <tr>\n",
       "      <th>4</th>\n",
       "      <td>U593596</td>\n",
       "      <td>2019-11-12 12:24:09</td>\n",
       "      <td>N31043 N39592 N4104 N8223 N114581 N92747 N1207...</td>\n",
       "      <td>N38902-0 N76434-0 N71593-0 N100073-0 N108736-0...</td>\n",
       "    </tr>\n",
       "    <tr>\n",
       "      <th>5</th>\n",
       "      <td>U239687</td>\n",
       "      <td>2019-11-14 08:03:01</td>\n",
       "      <td>N65250 N122359 N71723 N53796 N41663 N41484 N11...</td>\n",
       "      <td>N76209-0 N48841-0 N67937-0 N62235-0 N6307-0 N3...</td>\n",
       "    </tr>\n",
       "    <tr>\n",
       "      <th>6</th>\n",
       "      <td>U521853</td>\n",
       "      <td>2019-11-11 10:47:31</td>\n",
       "      <td>N8668 N29136 N128643 N9740 N9375 N52911 N12090...</td>\n",
       "      <td>N32154-0 N67747-0 N47257-0 N98178-1</td>\n",
       "    </tr>\n",
       "    <tr>\n",
       "      <th>7</th>\n",
       "      <td>U687515</td>\n",
       "      <td>2019-11-13 05:31:06</td>\n",
       "      <td>N91810 N96438 N104027 N53650</td>\n",
       "      <td>N12681-0 N10802-0 N93856-0 N96729-0 N46415-0 N...</td>\n",
       "    </tr>\n",
       "    <tr>\n",
       "      <th>8</th>\n",
       "      <td>U192112</td>\n",
       "      <td>2019-11-11 09:06:04</td>\n",
       "      <td>N9740 N59820 N18389 N23320 N12322 N9375 N11563...</td>\n",
       "      <td>N98178-1 N32154-0</td>\n",
       "    </tr>\n",
       "    <tr>\n",
       "      <th>9</th>\n",
       "      <td>U530668</td>\n",
       "      <td>2019-11-11 02:10:15</td>\n",
       "      <td>N67770 N65823 N35599 N8753 N126368 N32221 N844...</td>\n",
       "      <td>N49168-0 N123077-1 N55792-0 N47257-0</td>\n",
       "    </tr>\n",
       "    <tr>\n",
       "      <th>10</th>\n",
       "      <td>U290933</td>\n",
       "      <td>2019-11-10 11:54:34</td>\n",
       "      <td>N14678 N71340 N65259 N92085 N31043 N70385 N123...</td>\n",
       "      <td>N92691-0 N10654-0 N107542-0 N14509-0 N63262-0 ...</td>\n",
       "    </tr>\n",
       "  </tbody>\n",
       "</table>\n",
       "</div>"
      ],
      "text/plain": [
       "        uID                   t   \n",
       "1    U87243 2019-11-10 11:30:54  \\\n",
       "2   U598644 2019-11-12 01:45:29   \n",
       "3   U532401 2019-11-13 11:23:03   \n",
       "4   U593596 2019-11-12 12:24:09   \n",
       "5   U239687 2019-11-14 08:03:01   \n",
       "6   U521853 2019-11-11 10:47:31   \n",
       "7   U687515 2019-11-13 05:31:06   \n",
       "8   U192112 2019-11-11 09:06:04   \n",
       "9   U530668 2019-11-11 02:10:15   \n",
       "10  U290933 2019-11-10 11:54:34   \n",
       "\n",
       "                                            ClickHist   \n",
       "1   N8668 N39081 N65259 N79529 N73408 N43615 N2937...  \\\n",
       "2   N56056 N8726 N70353 N67998 N83823 N111108 N107...   \n",
       "3   N128643 N87446 N122948 N9375 N82348 N129412 N5...   \n",
       "4   N31043 N39592 N4104 N8223 N114581 N92747 N1207...   \n",
       "5   N65250 N122359 N71723 N53796 N41663 N41484 N11...   \n",
       "6   N8668 N29136 N128643 N9740 N9375 N52911 N12090...   \n",
       "7                        N91810 N96438 N104027 N53650   \n",
       "8   N9740 N59820 N18389 N23320 N12322 N9375 N11563...   \n",
       "9   N67770 N65823 N35599 N8753 N126368 N32221 N844...   \n",
       "10  N14678 N71340 N65259 N92085 N31043 N70385 N123...   \n",
       "\n",
       "                                               ImpLog  \n",
       "1   N78206-0 N26368-0 N7578-0 N58592-0 N19858-0 N5...  \n",
       "2   N47996-0 N82719-0 N117066-0 N8491-0 N123784-0 ...  \n",
       "3               N103852-0 N53474-0 N127836-0 N47925-1  \n",
       "4   N38902-0 N76434-0 N71593-0 N100073-0 N108736-0...  \n",
       "5   N76209-0 N48841-0 N67937-0 N62235-0 N6307-0 N3...  \n",
       "6                 N32154-0 N67747-0 N47257-0 N98178-1  \n",
       "7   N12681-0 N10802-0 N93856-0 N96729-0 N46415-0 N...  \n",
       "8                                   N98178-1 N32154-0  \n",
       "9                N49168-0 N123077-1 N55792-0 N47257-0  \n",
       "10  N92691-0 N10654-0 N107542-0 N14509-0 N63262-0 ...  "
      ]
     },
     "execution_count": 2,
     "metadata": {},
     "output_type": "execute_result"
    }
   ],
   "source": [
    "path_items = \"../data/MINDlarge_train/news.tsv\"\n",
    "path_user_behavior = \"../data/MINDlarge_train/behaviors.tsv\"\n",
    "\n",
    "recommender = nrcbf.NewsRecommenderCBF(path_items, path_user_behavior)\n",
    "\n",
    "recommender.get_user_frame().head(10)"
   ]
  },
  {
   "cell_type": "code",
   "execution_count": 6,
   "metadata": {},
   "outputs": [
    {
     "name": "stdout",
     "output_type": "stream",
     "text": [
      "['N76665', 'N40040', 'N127225', 'N26863', 'N55030', 'N59752', 'N42777', 'N4169', 'N51319', 'N30729']\n"
     ]
    }
   ],
   "source": [
    "user = \"U521853\"\n",
    "recommendation = recommender.recommend(user, 10)\n",
    "print(recommendation)"
   ]
  },
  {
   "cell_type": "code",
   "execution_count": null,
   "metadata": {},
   "outputs": [],
   "source": []
  }
 ],
 "metadata": {
  "kernelspec": {
   "display_name": "Python 3",
   "language": "python",
   "name": "python3"
  },
  "language_info": {
   "codemirror_mode": {
    "name": "ipython",
    "version": 3
   },
   "file_extension": ".py",
   "mimetype": "text/x-python",
   "name": "python",
   "nbconvert_exporter": "python",
   "pygments_lexer": "ipython3",
   "version": "3.10.12"
  }
 },
 "nbformat": 4,
 "nbformat_minor": 2
}
